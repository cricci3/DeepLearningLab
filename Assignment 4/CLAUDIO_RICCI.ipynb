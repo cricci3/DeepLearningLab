{
 "metadata": {
  "kernelspec": {
   "language": "python",
   "display_name": "Python 3",
   "name": "python3"
  },
  "language_info": {
   "name": "python",
   "version": "3.10.14",
   "mimetype": "text/x-python",
   "codemirror_mode": {
    "name": "ipython",
    "version": 3
   },
   "pygments_lexer": "ipython3",
   "nbconvert_exporter": "python",
   "file_extension": ".py"
  },
  "kaggle": {
   "accelerator": "none",
   "dataSources": [],
   "dockerImageVersionId": 30804,
   "isInternetEnabled": true,
   "language": "python",
   "sourceType": "notebook",
   "isGpuEnabled": false
  }
 },
 "nbformat_minor": 4,
 "nbformat": 4,
 "cells": [
  {
   "cell_type": "markdown",
   "source": "# NAME SURNAME",
   "metadata": {}
  },
  {
   "cell_type": "markdown",
   "source": "## Packages",
   "metadata": {}
  },
  {
   "cell_type": "code",
   "source": "import networkx as nx # For graphs\nimport pickle # For data parsing\nfrom networkx.algorithms.approximation import greedy_tsp # For approx TSP",
   "metadata": {
    "_uuid": "8f2839f25d086af736a60e9eeb907d3b93b6e0e5",
    "_cell_guid": "b1076dfc-b9ad-4769-8c92-a6c4dae69d19",
    "trusted": true,
    "execution": {
     "iopub.status.busy": "2024-12-04T16:52:14.384693Z",
     "iopub.status.idle": "2024-12-04T16:52:14.385133Z",
     "shell.execute_reply.started": "2024-12-04T16:52:14.384930Z",
     "shell.execute_reply": "2024-12-04T16:52:14.384951Z"
    },
    "ExecuteTime": {
     "end_time": "2024-12-05T09:31:30.777483Z",
     "start_time": "2024-12-05T09:31:30.704856Z"
    }
   },
   "outputs": [],
   "execution_count": 1
  },
  {
   "cell_type": "markdown",
   "source": "## Helper functions",
   "metadata": {}
  },
  {
   "cell_type": "code",
   "source": [
    "\n",
    "def tour_length(G, tour):\n",
    "    \"\"\"\n",
    "    Compute the length of a tour. A tour is a list having elments 0 and -1 equal\n",
    "    \"\"\"\n",
    "    assert tour[0] == tour[-1], \"Not valid tour\"\n",
    "    estimated = 0\n",
    "    for i in range(n):\n",
    "        estimated += G[tour[i]][tour[i + 1]]['weight']\n",
    "    return estimated\n",
    "\n",
    "def greedy_algorithm(G):\n",
    "    \"\"\"\n",
    "    Run the value of the greedy approximation algorithm on graph G\n",
    "    \"\"\"\n",
    "    return tour_length(G, greedy_tsp(G, weight='weight'))\n",
    "\n",
    "def random_tour(G, seed = 42):\n",
    "    \"\"\"\n",
    "    Return the value of a random tour\n",
    "    \"\"\"\n",
    "    np.random.seed(seed)\n",
    "    n = G.number_of_nodes()\n",
    "    tour = [0]\n",
    "    for i in range(1, n):\n",
    "        next_node = np.random.choice([j for j in range(n) if j not in tour])\n",
    "        tour.append(next_node)\n",
    "    tour.append(0)\n",
    "\n",
    "def transformer_tsp(G, model, DEVICE = 'cpu'):\n",
    "    \"\"\"\n",
    "    Evaluate your (trained) model on G\n",
    "    \"\"\"\n",
    "    # Set the model in evaluation mode\n",
    "    model.eval()\n",
    "\n",
    "    # Note: number of edges is constant ed equal to n(n-1)/2\n",
    "    n = G.number_of_nodes()\n",
    "    \n",
    "    # Get node coordinates\n",
    "    attr = nx.get_node_attributes(G, 'pos')\n",
    "    x = []\n",
    "    for i in range(n):\n",
    "        x.append(torch.tensor(attr[i], dtype=torch.float32))\n",
    "\n",
    "    # From list of tensors to tensor 2d\n",
    "    x = torch.stack(x)    \n",
    "\n",
    "    tour = [0]\n",
    "    y = torch.tensor(tour, dtype=torch.long)\n",
    "    x = x.to(DEVICE).unsqueeze(0)\n",
    "    y = y.to(DEVICE).unsqueeze(0)\n",
    "    \n",
    "    # Predict the next node\n",
    "    out = transformer_model(x, y)\n",
    "    \n",
    "    # Loop until the tour is complete\n",
    "    while len(tour) < n:\n",
    "        _, idx = torch.topk(out, n, dim=2)\n",
    "        for i in range(n):\n",
    "            # Check if the node is already in the tour\n",
    "            if idx[0, 0, i] not in tour:\n",
    "                tour.append(idx[0, 0, i])\n",
    "                break\n",
    "        y = torch.tensor(tour)\n",
    "        y = y.to(DEVICE).unsqueeze(0)\n",
    "        out = transformer_model(x, y)\n",
    "    \n",
    "    tour = [int(i) for i in tour] + [0] # Append the starting node (that is hard-coded to 0)\n",
    "    return tour_length(G, tour)\n",
    "\n",
    "\n",
    "\n",
    "def gap(G, model = None, model_GA = None, random_seed = 42, device = 'cpu'):\n",
    "    \"\"\"\n",
    "    Compute the gap between the optimal solution on graph G and all the analyzed methods\n",
    "    \"\"\"\n",
    "\n",
    "        \n",
    "    # Optimal value (hard-coded in the graph)\n",
    "    TSP = sum([G[i][j]['weight']*G[i][j]['tour'] for (i, j) in G.edges()]) # Optimal\n",
    "\n",
    "    # Gaps dictionary\n",
    "    gaps = {'greedy' : 0, 'random' : 0, 'transformer_tsp': 0, 'transformer_tsp_acc_grad': 0}\n",
    "    gaps['greedy'] = 100* (greedy_algorithm(G) -  TSP) / TSP\n",
    "    gaps['random'] = 100 * (random_tour(G, random_seed) - TSP) / TSP\n",
    "    if model is not None:\n",
    "        gaps['transformer_tsp'] = 100 * (transformer_tsp(G, model, DEVICE=device) - TSP) / TSP\n",
    "    else:\n",
    "        gaps['transformer_tsp'] = float('inf') # In case you just train with GA\n",
    "        \n",
    "    if model_GA is not None:\n",
    "        gaps['transformer_tsp_acc_grad'] = 100 * (transformer_tsp(G, model_GA, DEVICE=device) - TSP) / TSP\n",
    "    else:\n",
    "        gaps['transformer_tsp_acc_grad'] = float('inf') # In case you just train without GA\n",
    "    return gaps    \n",
    "    "
   ],
   "metadata": {
    "trusted": true,
    "execution": {
     "iopub.status.busy": "2024-12-04T16:52:14.342873Z",
     "iopub.execute_input": "2024-12-04T16:52:14.343316Z",
     "iopub.status.idle": "2024-12-04T16:52:14.383799Z",
     "shell.execute_reply.started": "2024-12-04T16:52:14.343278Z",
     "shell.execute_reply": "2024-12-04T16:52:14.382051Z"
    },
    "ExecuteTime": {
     "end_time": "2024-12-05T09:31:30.806883Z",
     "start_time": "2024-12-05T09:31:30.798896Z"
    }
   },
   "outputs": [],
   "execution_count": 2
  },
  {
   "cell_type": "markdown",
   "source": "## Dataset & Dataloader",
   "metadata": {}
  },
  {
   "cell_type": "markdown",
   "source": "## Model",
   "metadata": {}
  },
  {
   "cell_type": "markdown",
   "source": "## Training",
   "metadata": {}
  },
  {
   "cell_type": "markdown",
   "source": "### Training WITHOUT gradient accumulation",
   "metadata": {}
  },
  {
   "cell_type": "markdown",
   "source": "### Training WITH gradient accumulation",
   "metadata": {}
  },
  {
   "cell_type": "markdown",
   "source": "## Testing",
   "metadata": {}
  }
 ]
}
