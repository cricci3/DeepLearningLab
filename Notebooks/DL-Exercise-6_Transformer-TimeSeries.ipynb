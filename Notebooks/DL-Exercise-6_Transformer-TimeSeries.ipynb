{
  "nbformat": 4,
  "nbformat_minor": 0,
  "metadata": {
    "colab": {
      "provenance": [],
      "gpuType": "T4",
      "toc_visible": true
    },
    "kernelspec": {
      "name": "python3",
      "display_name": "Python 3"
    },
    "language_info": {
      "name": "python"
    },
    "accelerator": "GPU"
  },
  "cells": [
    {
      "cell_type": "markdown",
      "source": [
        "# Exercise 5 : Probabilistic Time Series Forecasting with Transformers\n",
        "\n",
        "<img src=https://huggingface.co/blog/assets/118_time-series-transformers/thumbnail.png width=\"750\">\n",
        "\n",
        "## Introduction\n",
        "\n",
        "Time series forecasting is an essential scientific and business problem and as such has also seen a lot of innovation recently with the use of [deep learning based](https://dl.acm.org/doi/abs/10.1145/3533382) models in addition to the [classical methods](https://otexts.com/fpp3/)."
      ],
      "metadata": {
        "id": "sVSsf2QFiQMp"
      }
    },
    {
      "cell_type": "markdown",
      "source": [
        "In this exercise we will train a single probabilistic Transformer model on the `tourism_monthly` dataset (part of a past [Kaggle competition](https://www.kaggle.com/c/tourism1/overview); [associated paper](https://www.sciencedirect.com/science/article/abs/pii/S016920701000107X?via%3Dihub)), which is available on the [Hugging Face Hub](https://huggingface.co/datasets/monash_tsf). This dataset contains monthly tourism volumes for 366 regions in Australia (so we have 366 time series).\n",
        "\n",
        "An Encoder-Decoder architecture is helpful at inference time where typically for some logged data we wish to forecast some prediction steps into the future. This can be thought of as analogous to the text generation task where given some context, we sample the next token and pass it back into the decoder (also called \"autoregressive generation\").\n",
        "\n",
        "Due to the time and memory constraints of the attention mechanism, we'll consider some appropriate context window and sample this window and the subsequent prediction length sized window from the training data when constructing batches. The context sized window can be passed to the encoder and the prediction window to a causal-masked decoder."
      ],
      "metadata": {
        "id": "S09U5UonieqV"
      }
    },
    {
      "cell_type": "markdown",
      "source": [
        "## Set-up\n",
        "Install the necessary libraries: 🤗 Transformers, 🤗 Datasets, 🤗 Evaluate,  🤗 Accelerate and [GluonTS](https://github.com/awslabs/gluonts)."
      ],
      "metadata": {
        "id": "fUW8LlnMmLic"
      }
    },
    {
      "cell_type": "code",
      "execution_count": 1,
      "metadata": {
        "id": "cy2BSQqph2u8"
      },
      "outputs": [],
      "source": [
        "!pip install -q transformers\n",
        "!pip install -q datasets\n",
        "!pip install -q evaluate\n",
        "!pip install -q accelerate\n",
        "!pip install -q gluonts ujson"
      ]
    },
    {
      "cell_type": "code",
      "source": [
        "from transformers import set_seed\n",
        "\n",
        "set_seed(42)"
      ],
      "metadata": {
        "id": "CZLWITZv0IaK"
      },
      "execution_count": 2,
      "outputs": []
    },
    {
      "cell_type": "markdown",
      "source": [
        "## Data loading"
      ],
      "metadata": {
        "id": "Z2y3nkF-oZVq"
      }
    },
    {
      "cell_type": "code",
      "source": [
        "from datasets import load_dataset\n",
        "\n",
        "dataset = load_dataset(\"monash_tsf\", \"tourism_monthly\")\n",
        "train_dataset = dataset[\"train\"]\n",
        "validation_dataset = dataset[\"validation\"]\n",
        "test_dataset = dataset[\"test\"]\n",
        "\n",
        "freq = \"1M\"\n",
        "\n",
        "dataset"
      ],
      "metadata": {
        "colab": {
          "base_uri": "https://localhost:8080/"
        },
        "id": "-z24yBkmoe95",
        "outputId": "8e775974-a103-4785-f0be-0c4976f311c2"
      },
      "execution_count": 3,
      "outputs": [
        {
          "output_type": "execute_result",
          "data": {
            "text/plain": [
              "DatasetDict({\n",
              "    train: Dataset({\n",
              "        features: ['start', 'target', 'feat_static_cat', 'feat_dynamic_real', 'item_id'],\n",
              "        num_rows: 366\n",
              "    })\n",
              "    test: Dataset({\n",
              "        features: ['start', 'target', 'feat_static_cat', 'feat_dynamic_real', 'item_id'],\n",
              "        num_rows: 366\n",
              "    })\n",
              "    validation: Dataset({\n",
              "        features: ['start', 'target', 'feat_static_cat', 'feat_dynamic_real', 'item_id'],\n",
              "        num_rows: 366\n",
              "    })\n",
              "})"
            ]
          },
          "metadata": {},
          "execution_count": 3
        }
      ]
    },
    {
      "cell_type": "markdown",
      "source": [
        "Each observation in the dataset has different fields:"
      ],
      "metadata": {
        "id": "VZl490Yno0Un"
      }
    },
    {
      "cell_type": "code",
      "source": [
        "train_example = dataset[\"train\"][0]\n",
        "validation_example = dataset[\"validation\"][0]\n",
        "test_example = dataset[\"test\"][0]\n",
        "train_example.keys()"
      ],
      "metadata": {
        "colab": {
          "base_uri": "https://localhost:8080/"
        },
        "id": "Zr9tO79opSf7",
        "outputId": "c19885cc-6787-40fb-a03e-0ae59dcdf2eb"
      },
      "execution_count": 4,
      "outputs": [
        {
          "output_type": "execute_result",
          "data": {
            "text/plain": [
              "dict_keys(['start', 'target', 'feat_static_cat', 'feat_dynamic_real', 'item_id'])"
            ]
          },
          "metadata": {},
          "execution_count": 4
        }
      ]
    },
    {
      "cell_type": "markdown",
      "source": [
        "The `start` simply indicates the start of the time series (as a datetime), while the `target` contains the actual values of the time series.\n",
        "`feat_static_cat` is a field for categorical variables that remain fixed (static) during the time series; in this case there's only the ID of the region it refers to. `feat_dynamic_real` is for real-valued features which are static over time, but in this case the field is empty. `item_id` is once again a simple identifier of the time series.\n",
        "\n",
        "The `start` will be useful to add time related features to the time series values, as extra input to the model (such as \"month of year\").\n",
        "\n",
        "Note that the validation set contains the same data as the training set, just for a `prediction_length` longer amount of time. This allows us to validate the model's predictions against the ground truth. The test set is again one `prediction_length` longer data compared to the validation set, to get results against completely unseen data."
      ],
      "metadata": {
        "id": "op3LPLBYpUiA"
      }
    },
    {
      "cell_type": "code",
      "source": [
        "print(train_example[\"start\"])\n",
        "print(train_example[\"target\"][:5])\n",
        "print(f\"Length of the training sequence {len(train_example['target'])}\")\n",
        "print(f\"Length of the validation sequence {len(validation_example['target'])}\")\n",
        "print(f\"Length of the testing sequence {len(test_example['target'])} \\n\\n\")\n",
        "\n",
        "import matplotlib.pyplot as plt\n",
        "\n",
        "prediction_length = 24\n",
        "\n",
        "figure, axes = plt.subplots()\n",
        "axes.plot(range(len(train_example[\"target\"])),train_example[\"target\"], color=\"blue\",label=\"training\")\n",
        "axes.plot(range(len(train_example[\"target\"])-1,\n",
        "                len(train_example[\"target\"]) + prediction_length), validation_example[\"target\"][-prediction_length-1:], color=\"red\",label=\"validation\")\n",
        "axes.plot(range(len(train_example[\"target\"]) + prediction_length -1,\n",
        "                len(train_example[\"target\"]) + 2*prediction_length), test_example[\"target\"][-prediction_length-1:],color=\"green\",label=\"test\")\n",
        "plt.legend(loc=\"best\", fontsize=10)\n",
        "plt.xlabel(\"time-step\", fontsize=12)\n",
        "\n",
        "plt.show()"
      ],
      "metadata": {
        "colab": {
          "base_uri": "https://localhost:8080/",
          "height": 575
        },
        "id": "X8m9l8D7oymp",
        "outputId": "6eeac259-1cf4-407c-e2a1-f6082b94b1d2"
      },
      "execution_count": 5,
      "outputs": [
        {
          "output_type": "stream",
          "name": "stdout",
          "text": [
            "1979-01-01 00:00:00\n",
            "[1149.8699951171875, 1053.8001708984375, 1388.8797607421875, 1783.3702392578125, 1921.025146484375]\n",
            "Length of the training sequence 139\n",
            "Length of the validation sequence 163\n",
            "Length of the testing sequence 187 \n",
            "\n",
            "\n"
          ]
        },
        {
          "output_type": "display_data",
          "data": {
            "text/plain": [
              "<Figure size 640x480 with 1 Axes>"
            ],
            "image/png": "[encoded data removed]"
          },
          "metadata": {}
        }
      ]
    },
    {
      "cell_type": "markdown",
      "source": [
        "We convert `start` of each observation to be a `pd.Period` object, as this will come in handy later to construct additional features."
      ],
      "metadata": {
        "id": "Zasj3V55slj_"
      }
    },
    {
      "cell_type": "code",
      "source": [
        "from functools import lru_cache\n",
        "from functools import partial\n",
        "import pandas as pd\n",
        "import numpy as np\n",
        "\n",
        "@lru_cache(10_000)\n",
        "def convert_to_pandas_period(date, freq):\n",
        "    return pd.Period(date, freq)\n",
        "\n",
        "\n",
        "def transform_start_field(batch, freq):\n",
        "    batch[\"start\"] = [convert_to_pandas_period(date, freq) for date in batch[\"start\"]]\n",
        "    return batch\n",
        "\n",
        "train_dataset.set_transform(partial(transform_start_field, freq=freq))\n",
        "test_dataset.set_transform(partial(transform_start_field, freq=freq))\n",
        "validation_dataset.set_transform(partial(transform_start_field, freq=freq))"
      ],
      "metadata": {
        "id": "349zCQQ9sWMr"
      },
      "execution_count": 6,
      "outputs": []
    },
    {
      "cell_type": "markdown",
      "source": [
        "## Model definition\n",
        "\n",
        "## Define the model\n",
        "\n",
        "Next, let's instantiate the model. It will be trained from scratch, hence we won't use the `from_pretrained` method here, but rather randomly initialize the model from a [`config`](https://huggingface.co/docs/transformers/model_doc/time_series_transformer#transformers.TimeSeriesTransformerConfig).\n",
        "\n",
        "We specify a couple of additional parameters to the model:\n",
        "- `prediction_length` = 24: horizon that the decoder of the Transformer will learn to predict for;\n",
        "- `context_length` = 48: the length of the window considered;\n",
        "- `lags` : these specify how much we \"look back\", in a smart way given the frequency of observations, to be added as additional features.\n",
        "- the number of time features: in our case, this will be 2 as we'll add `MonthOfYear` and `Age` (how \"old\" the time series is at each step) features;\n",
        "- the cardinality: the number of values of each static categorical feature, as a list which for our case will be [366] as we have 366 different time series\n",
        "- the embedding dimension: the embedding dimension as a list, for example [3] meaning the model will learn an embedding vector of size 3 for each of the 366 time series (regions).\n"
      ],
      "metadata": {
        "id": "w6KNeoyss6xZ"
      }
    },
    {
      "cell_type": "markdown",
      "source": [
        "![](https://miro.medium.com/v2/resize:fit:1100/format:webp/1*KKfUW5qbn87JeBVbf91x4A.png)\n",
        "\n",
        "![](https://miro.medium.com/v2/resize:fit:1100/format:webp/1*YzBUzokB0ShcSG87Yi9CtA.png)"
      ],
      "metadata": {
        "id": "ph6XvUDbu0d2"
      }
    },
    {
      "cell_type": "code",
      "source": [
        "from gluonts.time_feature import time_features_from_frequency_str\n",
        "\n",
        "time_features = time_features_from_frequency_str(freq) # simply a float representing the month as a new feature\n",
        "print(time_features)\n",
        "\n",
        "from gluonts.time_feature import get_lags_for_frequency\n",
        "\n",
        "lags_sequence = get_lags_for_frequency(freq)\n",
        "print(lags_sequence)"
      ],
      "metadata": {
        "colab": {
          "base_uri": "https://localhost:8080/"
        },
        "id": "0PuHxYkyutBy",
        "outputId": "1763cb05-321c-4ccf-f43c-00b0659d12a9"
      },
      "execution_count": 7,
      "outputs": [
        {
          "output_type": "stream",
          "name": "stdout",
          "text": [
            "[<function month_of_year at 0x7a97bd8f8670>]\n",
            "[1, 2, 3, 4, 5, 6, 7, 11, 12, 13, 23, 24, 25, 35, 36, 37]\n"
          ]
        }
      ]
    },
    {
      "cell_type": "markdown",
      "source": [
        "#### TODO: Intuitively, does the sequence proposed above make sense for monthly data? Why?"
      ],
      "metadata": {
        "id": "DtLnZ2xVLS_j"
      }
    },
    {
      "cell_type": "code",
      "source": [
        "from transformers import TimeSeriesTransformerConfig, TimeSeriesTransformerForPrediction\n",
        "\n",
        "config = TimeSeriesTransformerConfig(\n",
        "    prediction_length=prediction_length,\n",
        "    context_length=prediction_length*2,\n",
        "    lags_sequence=lags_sequence,\n",
        "    num_time_features= 2, # month of year + \"age\"\n",
        "    num_static_categorical_features=1,\n",
        "    cardinality=[len(train_dataset)],\n",
        "    embedding_dimension=[2],\n",
        "\n",
        "    # transformer params:\n",
        "    encoder_layers=4, # N_x\n",
        "    decoder_layers=4, # N_x\n",
        "    d_model=32,\n",
        "\n",
        "    # NOTE: Other hyperparams could be tuned here like encoder_attention_heads, decoder_attention_heads, dropout, FF dimension, etc...\n",
        ")\n",
        "\n",
        "model = TimeSeriesTransformerForPrediction(config)"
      ],
      "metadata": {
        "id": "8llkE3e5vKQl"
      },
      "execution_count": 8,
      "outputs": []
    },
    {
      "cell_type": "markdown",
      "source": [
        "Let's take a look at the actual structure of the model (also link to [source](https://github.com/huggingface/transformers/blob/v4.35.2/src/transformers/models/time_series_transformer/modeling_time_series_transformer.py#L1238)). This is essentially a standard transformer model.\n",
        "\n",
        "<img src=https://machinelearningmastery.com/wp-content/uploads/2021/08/attention_research_1.png width=\"500\">"
      ],
      "metadata": {
        "id": "u7zY0iabw5cP"
      }
    },
    {
      "cell_type": "code",
      "source": [
        "model\n",
        "# (22 = 16 (len(lags) + 2 * 1 (univariate) + embedding size + number of features (month+age) )) TimeSeriesValueEmbedding\n",
        "# (72 = context_length (48) + prediction_length (24)) TimeSeriesSinusoidalPositionalEmbedding"
      ],
      "metadata": {
        "colab": {
          "base_uri": "https://localhost:8080/"
        },
        "id": "MwmDQ29Bw421",
        "outputId": "d8d983b0-552e-4f28-be0c-0e8b80b3eced"
      },
      "execution_count": 9,
      "outputs": [
        {
          "output_type": "execute_result",
          "data": {
            "text/plain": [
              "TimeSeriesTransformerForPrediction(\n",
              "  (model): TimeSeriesTransformerModel(\n",
              "    (scaler): TimeSeriesMeanScaler()\n",
              "    (embedder): TimeSeriesFeatureEmbedder(\n",
              "      (embedders): ModuleList(\n",
              "        (0): Embedding(366, 2)\n",
              "      )\n",
              "    )\n",
              "    (encoder): TimeSeriesTransformerEncoder(\n",
              "      (value_embedding): TimeSeriesValueEmbedding(\n",
              "        (value_projection): Linear(in_features=22, out_features=32, bias=False)\n",
              "      )\n",
              "      (embed_positions): TimeSeriesSinusoidalPositionalEmbedding(72, 32)\n",
              "      (layers): ModuleList(\n",
              "        (0-3): 4 x TimeSeriesTransformerEncoderLayer(\n",
              "          (self_attn): TimeSeriesTransformerAttention(\n",
              "            (k_proj): Linear(in_features=32, out_features=32, bias=True)\n",
              "            (v_proj): Linear(in_features=32, out_features=32, bias=True)\n",
              "            (q_proj): Linear(in_features=32, out_features=32, bias=True)\n",
              "            (out_proj): Linear(in_features=32, out_features=32, bias=True)\n",
              "          )\n",
              "          (self_attn_layer_norm): LayerNorm((32,), eps=1e-05, elementwise_affine=True)\n",
              "          (activation_fn): GELUActivation()\n",
              "          (fc1): Linear(in_features=32, out_features=32, bias=True)\n",
              "          (fc2): Linear(in_features=32, out_features=32, bias=True)\n",
              "          (final_layer_norm): LayerNorm((32,), eps=1e-05, elementwise_affine=True)\n",
              "        )\n",
              "      )\n",
              "      (layernorm_embedding): LayerNorm((32,), eps=1e-05, elementwise_affine=True)\n",
              "    )\n",
              "    (decoder): TimeSeriesTransformerDecoder(\n",
              "      (value_embedding): TimeSeriesValueEmbedding(\n",
              "        (value_projection): Linear(in_features=22, out_features=32, bias=False)\n",
              "      )\n",
              "      (embed_positions): TimeSeriesSinusoidalPositionalEmbedding(72, 32)\n",
              "      (layers): ModuleList(\n",
              "        (0-3): 4 x TimeSeriesTransformerDecoderLayer(\n",
              "          (self_attn): TimeSeriesTransformerAttention(\n",
              "            (k_proj): Linear(in_features=32, out_features=32, bias=True)\n",
              "            (v_proj): Linear(in_features=32, out_features=32, bias=True)\n",
              "            (q_proj): Linear(in_features=32, out_features=32, bias=True)\n",
              "            (out_proj): Linear(in_features=32, out_features=32, bias=True)\n",
              "          )\n",
              "          (activation_fn): GELUActivation()\n",
              "          (self_attn_layer_norm): LayerNorm((32,), eps=1e-05, elementwise_affine=True)\n",
              "          (encoder_attn): TimeSeriesTransformerAttention(\n",
              "            (k_proj): Linear(in_features=32, out_features=32, bias=True)\n",
              "            (v_proj): Linear(in_features=32, out_features=32, bias=True)\n",
              "            (q_proj): Linear(in_features=32, out_features=32, bias=True)\n",
              "            (out_proj): Linear(in_features=32, out_features=32, bias=True)\n",
              "          )\n",
              "          (encoder_attn_layer_norm): LayerNorm((32,), eps=1e-05, elementwise_affine=True)\n",
              "          (fc1): Linear(in_features=32, out_features=32, bias=True)\n",
              "          (fc2): Linear(in_features=32, out_features=32, bias=True)\n",
              "          (final_layer_norm): LayerNorm((32,), eps=1e-05, elementwise_affine=True)\n",
              "        )\n",
              "      )\n",
              "      (layernorm_embedding): LayerNorm((32,), eps=1e-05, elementwise_affine=True)\n",
              "    )\n",
              "  )\n",
              "  (parameter_projection): ParameterProjection(\n",
              "    (proj): ModuleList(\n",
              "      (0-2): 3 x Linear(in_features=32, out_features=1, bias=True)\n",
              "    )\n",
              "    (domain_map): LambdaLayer()\n",
              "  )\n",
              ")"
            ]
          },
          "metadata": {},
          "execution_count": 9
        }
      ]
    },
    {
      "cell_type": "markdown",
      "source": [
        "Note that this is a so-called probabilistic forecasting model, not a point forecasting model. This means that the model learns a distribution, from which one can sample. By default, the model uses a Student-t distribution. This is an important difference with Transformers for NLP, where the head typically consists of a fixed categorical distribution implemented as an `nn.Linear` layer."
      ],
      "metadata": {
        "id": "1uhcVZZIimqp"
      }
    },
    {
      "cell_type": "code",
      "source": [
        "model.config.distribution_output"
      ],
      "metadata": {
        "colab": {
          "base_uri": "https://localhost:8080/",
          "height": 36
        },
        "id": "MvYtgWutio7F",
        "outputId": "b6314ebc-8ce0-4d46-a5b8-bdedac23a875"
      },
      "execution_count": 10,
      "outputs": [
        {
          "output_type": "execute_result",
          "data": {
            "text/plain": [
              "'student_t'"
            ],
            "application/vnd.google.colaboratory.intrinsic+json": {
              "type": "string"
            }
          },
          "metadata": {},
          "execution_count": 10
        }
      ]
    },
    {
      "cell_type": "markdown",
      "source": [
        "#### TODO: Why is it generally sensible to establish a distribution and subsequently sample from it for forecasting purposes? What drawbacks might arise from predicting a fixed point at each time-step?"
      ],
      "metadata": {
        "id": "993327WoL3z-"
      }
    },
    {
      "cell_type": "markdown",
      "source": [
        "#### Important Note:\n",
        "\n",
        "The model is trained using “teacher-forcing”, similar to how a Transformer is trained for machine translation. This means that, during training, one shifts the future_values one position to the right as input to the decoder, prepended by the last value of past_values. At each time step, the model needs to predict the next target. So the set-up of training is similar to a GPT model for language, except that there's no notion of `decoder_start_token_id` (we just use the last value of the context as initial input for the decoder). In practice we say the model is auto-regressive.\n",
        "\n",
        "\n",
        "At inference time, we give the final value of the past_values as input to the decoder. Next, we can sample from the model to make a prediction at the next time step, which is then fed to the decoder in order to make the next prediction (also called autoregressive generation)."
      ],
      "metadata": {
        "id": "MCNSske60CO7"
      }
    },
    {
      "cell_type": "markdown",
      "source": [
        "## Transformations\n",
        "\n",
        "Next, we define the transformations for the data, in particular for the creation of the time features (based on the dataset or universal ones). This is done using the GluonTS library.\n",
        "\n",
        "At a high level, we will iterate over the individual time series of our dataset and add/remove fields or features:"
      ],
      "metadata": {
        "id": "7wTmvPo-jauB"
      }
    },
    {
      "cell_type": "code",
      "source": [
        "from gluonts.dataset.field_names import FieldName\n",
        "from gluonts.transform import (\n",
        "    AddAgeFeature,\n",
        "    AddObservedValuesIndicator,\n",
        "    AddTimeFeatures,\n",
        "    AsNumpyArray,\n",
        "    Chain,\n",
        "    ExpectedNumInstanceSampler,\n",
        "    InstanceSplitter,\n",
        "    RemoveFields,\n",
        "    SelectFields,\n",
        "    TestSplitSampler,\n",
        "    ValidationSplitSampler,\n",
        "    Transformation,\n",
        "    VstackFeatures,\n",
        "    RenameFields,\n",
        ")\n",
        "from transformers import PretrainedConfig\n",
        "\n",
        "\n",
        "def create_transformation(freq: str, config: PretrainedConfig) -> Transformation:\n",
        "\n",
        "    # remove some fields we're not going to use\n",
        "    remove_field_names = []\n",
        "    if config.num_static_real_features == 0:\n",
        "        remove_field_names.append(FieldName.FEAT_STATIC_REAL)\n",
        "    if config.num_dynamic_real_features == 0:\n",
        "        remove_field_names.append(FieldName.FEAT_DYNAMIC_REAL)\n",
        "    if config.num_static_categorical_features == 0:\n",
        "        remove_field_names.append(FieldName.FEAT_STATIC_CAT)\n",
        "\n",
        "    return Chain(\n",
        "        # step 1: remove static/dynamic fields if not specified\n",
        "        [RemoveFields(field_names=remove_field_names)]\n",
        "        # step 2: convert the data to NumPy (potentially not needed)\n",
        "        + (\n",
        "            [\n",
        "                AsNumpyArray(\n",
        "                    field=FieldName.FEAT_STATIC_CAT,\n",
        "                    expected_ndim=1,\n",
        "                    dtype=int,\n",
        "                )\n",
        "            ]\n",
        "            if config.num_static_categorical_features > 0\n",
        "            else []\n",
        "        )\n",
        "        + (\n",
        "            [\n",
        "                AsNumpyArray(\n",
        "                    field=FieldName.FEAT_STATIC_REAL,\n",
        "                    expected_ndim=1,\n",
        "                )\n",
        "            ]\n",
        "            if config.num_static_real_features > 0\n",
        "            else []\n",
        "        )\n",
        "        + [\n",
        "            AsNumpyArray(\n",
        "                field=FieldName.TARGET,\n",
        "                # we expect an extra dim for the multivariate case:\n",
        "                expected_ndim=1 if config.input_size == 1 else 2,\n",
        "            ),\n",
        "            # step 3: handle the NaN's by filling in the target with zero\n",
        "            # and return the mask (which is in the observed values)\n",
        "            # true for observed values, false for nan's\n",
        "            # the decoder uses this mask (no loss is incurred for unobserved values)\n",
        "            AddObservedValuesIndicator(\n",
        "                target_field=FieldName.TARGET,\n",
        "                output_field=FieldName.OBSERVED_VALUES,\n",
        "            ),\n",
        "            # step 4: add temporal features based on freq of the dataset\n",
        "            # these serve as positional encodings\n",
        "            AddTimeFeatures(\n",
        "                start_field=FieldName.START,\n",
        "                target_field=FieldName.TARGET,\n",
        "                output_field=FieldName.FEAT_TIME,\n",
        "                time_features=time_features_from_frequency_str(freq),\n",
        "                pred_length=config.prediction_length,\n",
        "            ),\n",
        "            # step 5: add another temporal feature (just a single number)\n",
        "            # tells the model where in the life the value of the time series is\n",
        "            AddAgeFeature(\n",
        "                target_field=FieldName.TARGET,\n",
        "                output_field=FieldName.FEAT_AGE,\n",
        "                pred_length=config.prediction_length,\n",
        "                log_scale=True,\n",
        "            ),\n",
        "            # step 6: vertically stack all the temporal features into the key FEAT_TIME\n",
        "            VstackFeatures(\n",
        "                output_field=FieldName.FEAT_TIME,\n",
        "                input_fields=[FieldName.FEAT_TIME, FieldName.FEAT_AGE]\n",
        "                + (\n",
        "                    [FieldName.FEAT_DYNAMIC_REAL]\n",
        "                    if config.num_dynamic_real_features > 0\n",
        "                    else []\n",
        "                ),\n",
        "            ),\n",
        "            # step 7: rename to match HuggingFace names\n",
        "            RenameFields(\n",
        "                mapping={\n",
        "                    FieldName.FEAT_STATIC_CAT: \"static_categorical_features\",\n",
        "                    FieldName.FEAT_STATIC_REAL: \"static_real_features\",\n",
        "                    FieldName.FEAT_TIME: \"time_features\",\n",
        "                    FieldName.TARGET: \"values\",\n",
        "                    FieldName.OBSERVED_VALUES: \"observed_mask\",\n",
        "                }\n",
        "            ),\n",
        "        ]\n",
        "    )"
      ],
      "metadata": {
        "id": "lzi2KtiEisvD"
      },
      "execution_count": 11,
      "outputs": []
    },
    {
      "cell_type": "markdown",
      "source": [
        "## Define `InstanceSplitter`\n",
        "\n",
        "For training/validation/testing we next create an `InstanceSplitter` which is used to sample windows from the dataset.\n",
        "\n",
        "The instance splitter samples random `context_length` sized and subsequent `prediction_length` sized windows from the data.\n",
        "\n",
        "This makes sure that the `values` will be split into `past_values` and subsequent `future_values` keys, which will serve as the encoder and decoder inputs respectively."
      ],
      "metadata": {
        "id": "PyzIS6GMlzeH"
      }
    },
    {
      "cell_type": "code",
      "source": [
        "from gluonts.transform.sampler import InstanceSampler\n",
        "from typing import Optional\n",
        "\n",
        "\n",
        "def create_instance_splitter(\n",
        "    config: PretrainedConfig,\n",
        "    mode: str,\n",
        "    train_sampler: Optional[InstanceSampler] = None,\n",
        "    validation_sampler: Optional[InstanceSampler] = None,\n",
        ") -> Transformation:\n",
        "    assert mode in [\"train\", \"validation\", \"test\"]\n",
        "\n",
        "    instance_sampler = {\n",
        "        \"train\": train_sampler\n",
        "        or ExpectedNumInstanceSampler(\n",
        "            num_instances=1.0, min_future=config.prediction_length\n",
        "        ),\n",
        "        \"validation\": validation_sampler\n",
        "        or ValidationSplitSampler(min_future=config.prediction_length),\n",
        "        \"test\": TestSplitSampler(),\n",
        "    }[mode]\n",
        "\n",
        "    return InstanceSplitter(\n",
        "        target_field=\"values\",\n",
        "        is_pad_field=FieldName.IS_PAD,\n",
        "        start_field=FieldName.START,\n",
        "        forecast_start_field=FieldName.FORECAST_START,\n",
        "        instance_sampler=instance_sampler,\n",
        "        past_length=config.context_length + max(config.lags_sequence),\n",
        "        future_length=config.prediction_length,\n",
        "        time_series_fields=[\"time_features\", \"observed_mask\"],\n",
        "    )"
      ],
      "metadata": {
        "id": "ATCYOJ_Ol2D3"
      },
      "execution_count": 12,
      "outputs": []
    },
    {
      "cell_type": "markdown",
      "source": [
        "## Create DataLoaders\n",
        "\n",
        "Dataloaders allow us to have batches of (input, output pairs) - or in other words (`past_values`, `future_values`)."
      ],
      "metadata": {
        "id": "oHsNhs0vnG5n"
      }
    },
    {
      "cell_type": "code",
      "source": [
        "from typing import Iterable\n",
        "\n",
        "import torch\n",
        "from gluonts.itertools import Cyclic, Cached\n",
        "from gluonts.dataset.loader import as_stacked_batches\n",
        "\n",
        "\n",
        "def create_train_dataloader(\n",
        "    config: PretrainedConfig,\n",
        "    freq,\n",
        "    data,\n",
        "    batch_size: int,\n",
        "    num_batches_per_epoch: int,\n",
        "    shuffle_buffer_length: Optional[int] = None,\n",
        "    cache_data: bool = True,\n",
        "    **kwargs,\n",
        ") -> Iterable:\n",
        "    PREDICTION_INPUT_NAMES = [\n",
        "        \"past_time_features\",\n",
        "        \"past_values\",\n",
        "        \"past_observed_mask\",\n",
        "        \"future_time_features\",\n",
        "    ]\n",
        "    if config.num_static_categorical_features > 0:\n",
        "        PREDICTION_INPUT_NAMES.append(\"static_categorical_features\")\n",
        "\n",
        "    if config.num_static_real_features > 0:\n",
        "        PREDICTION_INPUT_NAMES.append(\"static_real_features\")\n",
        "\n",
        "    TRAINING_INPUT_NAMES = PREDICTION_INPUT_NAMES + [\n",
        "        \"future_values\",\n",
        "        \"future_observed_mask\",\n",
        "    ]\n",
        "\n",
        "    transformation = create_transformation(freq, config)\n",
        "    transformed_data = transformation.apply(data, is_train=True)\n",
        "    if cache_data:\n",
        "        transformed_data = Cached(transformed_data)\n",
        "\n",
        "    # we initialize a Training instance\n",
        "    instance_splitter = create_instance_splitter(config, \"train\")\n",
        "\n",
        "    stream = Cyclic(transformed_data).stream()\n",
        "    training_instances = instance_splitter.apply(\n",
        "        stream, is_train=True\n",
        "    )\n",
        "\n",
        "    return as_stacked_batches(\n",
        "        training_instances,\n",
        "        batch_size=batch_size,\n",
        "        shuffle_buffer_length=shuffle_buffer_length,\n",
        "        field_names=TRAINING_INPUT_NAMES,\n",
        "        output_type=torch.tensor,\n",
        "        num_batches_per_epoch=num_batches_per_epoch,\n",
        "    )"
      ],
      "metadata": {
        "id": "Zwt4XCB2nEf7"
      },
      "execution_count": 13,
      "outputs": []
    },
    {
      "cell_type": "code",
      "source": [
        "def create_test_dataloader(\n",
        "    config: PretrainedConfig,\n",
        "    freq,\n",
        "    data,\n",
        "    batch_size: int,\n",
        "    **kwargs,\n",
        "):\n",
        "    PREDICTION_INPUT_NAMES = [\n",
        "        \"past_time_features\",\n",
        "        \"past_values\",\n",
        "        \"past_observed_mask\",\n",
        "        \"future_time_features\",\n",
        "    ]\n",
        "    if config.num_static_categorical_features > 0:\n",
        "        PREDICTION_INPUT_NAMES.append(\"static_categorical_features\")\n",
        "\n",
        "    if config.num_static_real_features > 0:\n",
        "        PREDICTION_INPUT_NAMES.append(\"static_real_features\")\n",
        "\n",
        "    transformation = create_transformation(freq, config)\n",
        "    transformed_data = transformation.apply(data, is_train=False)\n",
        "\n",
        "    # we create a Test Instance splitter which will sample the very last\n",
        "    # context window seen during training only for the encoder.\n",
        "    instance_sampler = create_instance_splitter(config, \"test\")\n",
        "\n",
        "    # we apply the transformations in test mode\n",
        "    testing_instances = instance_sampler.apply(transformed_data, is_train=False)\n",
        "\n",
        "    return as_stacked_batches(\n",
        "        testing_instances,\n",
        "        batch_size=batch_size,\n",
        "        output_type=torch.tensor,\n",
        "        field_names=PREDICTION_INPUT_NAMES,\n",
        "    )"
      ],
      "metadata": {
        "id": "vAAaRyt2njiF"
      },
      "execution_count": 14,
      "outputs": []
    },
    {
      "cell_type": "code",
      "source": [
        "train_dataloader = create_train_dataloader(\n",
        "    config=config,\n",
        "    freq=freq,\n",
        "    data=train_dataset,\n",
        "    batch_size=256,\n",
        "    num_batches_per_epoch=100,\n",
        ")\n",
        "\n",
        "test_dataloader = create_test_dataloader(\n",
        "    config=config,\n",
        "    freq=freq,\n",
        "    data=test_dataset,\n",
        "    batch_size=64,\n",
        ")"
      ],
      "metadata": {
        "id": "4Wy9Eqr_nlSd"
      },
      "execution_count": 15,
      "outputs": []
    },
    {
      "cell_type": "markdown",
      "source": [
        "#### TODO check the dimensions of each batch of the training dataloader (for all different keys)"
      ],
      "metadata": {
        "id": "qEnqhBhzNPuO"
      }
    },
    {
      "cell_type": "code",
      "source": [
        "# TODO"
      ],
      "metadata": {
        "id": "ZaRneWWyIyW5"
      },
      "execution_count": 16,
      "outputs": []
    },
    {
      "cell_type": "code",
      "source": [
        "#@title Solution\n",
        "\n",
        "batch = next(iter(train_dataloader))\n",
        "\n",
        "for k, v in batch.items():\n",
        "    print(k, v.shape, v.type())"
      ],
      "metadata": {
        "id": "DG9fM1I3nniZ",
        "cellView": "form"
      },
      "execution_count": null,
      "outputs": []
    },
    {
      "cell_type": "markdown",
      "source": [
        "#### TODO: given the dimensions obtained above, give an interpretation on how these tensors might interact within the transformer."
      ],
      "metadata": {
        "id": "EuoJCZQrIUbZ"
      }
    },
    {
      "cell_type": "markdown",
      "source": [
        "## Training"
      ],
      "metadata": {
        "id": "PEa4S3Aepuy4"
      }
    },
    {
      "cell_type": "markdown",
      "source": [
        "## Train the Model\n",
        "\n",
        "It's time to train the model! We'll use a standard PyTorch training loop.\n",
        "\n",
        "We will use the 🤗 [Accelerate](https://huggingface.co/docs/accelerate/index) library here, which automatically places the model, optimizer and dataloader on the appropriate `device`."
      ],
      "metadata": {
        "id": "IlB8Tgg6p_fn"
      }
    },
    {
      "cell_type": "code",
      "source": [
        "from accelerate import Accelerator\n",
        "from torch.optim import AdamW\n",
        "\n",
        "accelerator = Accelerator()\n",
        "device = accelerator.device\n",
        "\n",
        "model.to(device)\n",
        "optimizer = AdamW(model.parameters(), lr=6e-4, betas=(0.9, 0.95), weight_decay=1e-1)\n",
        "\n",
        "model, optimizer, train_dataloader = accelerator.prepare(\n",
        "    model,\n",
        "    optimizer,\n",
        "    train_dataloader,\n",
        ")\n",
        "\n",
        "for epoch in range(40):\n",
        "    train_running_loss = 0\n",
        "\n",
        "    model.train()\n",
        "    for idx, batch in enumerate(train_dataloader):\n",
        "        optimizer.zero_grad()\n",
        "        outputs = model(\n",
        "            static_categorical_features=batch[\"static_categorical_features\"].to(device),\n",
        "            static_real_features=None,\n",
        "            past_time_features=batch[\"past_time_features\"].to(device),\n",
        "            past_values=batch[\"past_values\"].to(device),\n",
        "            future_time_features=batch[\"future_time_features\"].to(device),\n",
        "            future_values=batch[\"future_values\"].to(device),\n",
        "            past_observed_mask=batch[\"past_observed_mask\"].to(device),\n",
        "            future_observed_mask=batch[\"future_observed_mask\"].to(device),\n",
        "        )\n",
        "        loss = outputs.loss\n",
        "        train_running_loss += loss.item()\n",
        "\n",
        "        accelerator.backward(loss)\n",
        "        optimizer.step()\n",
        "\n",
        "    print(f\"Epoch {epoch+1}: Train loss: {train_running_loss}\")"
      ],
      "metadata": {
        "colab": {
          "base_uri": "https://localhost:8080/"
        },
        "id": "AJcNcfgIo0VP",
        "outputId": "59cb1fc2-8666-4d1b-e300-3b88fb9de5b4"
      },
      "execution_count": 18,
      "outputs": [
        {
          "output_type": "stream",
          "name": "stdout",
          "text": [
            "Epoch 1: Train loss: 806.6572918891907\n",
            "Epoch 2: Train loss: 765.7081127166748\n",
            "Epoch 3: Train loss: 743.639319896698\n",
            "Epoch 4: Train loss: 733.0729031562805\n",
            "Epoch 5: Train loss: 728.8970174789429\n",
            "Epoch 6: Train loss: 726.367612361908\n",
            "Epoch 7: Train loss: 722.8259530067444\n",
            "Epoch 8: Train loss: 722.585702419281\n",
            "Epoch 9: Train loss: 721.3031315803528\n",
            "Epoch 10: Train loss: 719.614381313324\n",
            "Epoch 11: Train loss: 719.7479844093323\n",
            "Epoch 12: Train loss: 715.288031578064\n",
            "Epoch 13: Train loss: 718.4713220596313\n",
            "Epoch 14: Train loss: 717.3346347808838\n",
            "Epoch 15: Train loss: 714.2860207557678\n",
            "Epoch 16: Train loss: 716.7659697532654\n",
            "Epoch 17: Train loss: 716.2451324462891\n",
            "Epoch 18: Train loss: 714.1672387123108\n",
            "Epoch 19: Train loss: 713.6069893836975\n",
            "Epoch 20: Train loss: 714.1530723571777\n",
            "Epoch 21: Train loss: 713.1825094223022\n",
            "Epoch 22: Train loss: 714.2538495063782\n",
            "Epoch 23: Train loss: 714.295970916748\n",
            "Epoch 24: Train loss: 711.2252039909363\n",
            "Epoch 25: Train loss: 713.163724899292\n",
            "Epoch 26: Train loss: 712.0545921325684\n",
            "Epoch 27: Train loss: 712.844838142395\n",
            "Epoch 28: Train loss: 711.1440453529358\n",
            "Epoch 29: Train loss: 709.8320784568787\n",
            "Epoch 30: Train loss: 712.9089527130127\n",
            "Epoch 31: Train loss: 711.7505602836609\n",
            "Epoch 32: Train loss: 710.9749298095703\n",
            "Epoch 33: Train loss: 710.6929578781128\n",
            "Epoch 34: Train loss: 710.1462569236755\n",
            "Epoch 35: Train loss: 710.0551071166992\n",
            "Epoch 36: Train loss: 708.5681738853455\n",
            "Epoch 37: Train loss: 710.860378742218\n",
            "Epoch 38: Train loss: 708.6159076690674\n",
            "Epoch 39: Train loss: 710.0422911643982\n",
            "Epoch 40: Train loss: 710.4988512992859\n"
          ]
        }
      ]
    },
    {
      "cell_type": "markdown",
      "source": [
        "## Prediction\n",
        "\n",
        "We use the `generate()` method for autoregressive generation.\n",
        "\n",
        "We will sample the very last `context_length` sized window of values from each time series in the dataset, and pass it to the model.\n",
        "\n",
        "The model will autoregressively sample a certain number of values from the predicted distribution and pass them back to the decoder to return the prediction outputs:"
      ],
      "metadata": {
        "id": "LeCn_Zahtte4"
      }
    },
    {
      "cell_type": "code",
      "source": [
        "model.eval()\n",
        "\n",
        "forecasts = []\n",
        "\n",
        "for batch in test_dataloader:\n",
        "    outputs = model.generate(\n",
        "        static_categorical_features=batch[\"static_categorical_features\"].to(device),\n",
        "        static_real_features=None,\n",
        "        past_time_features=batch[\"past_time_features\"].to(device),\n",
        "        past_values=batch[\"past_values\"].to(device),\n",
        "        future_time_features=batch[\"future_time_features\"].to(device),\n",
        "        past_observed_mask=batch[\"past_observed_mask\"].to(device),\n",
        "    )\n",
        "    forecasts.append(outputs.sequences.cpu().numpy())"
      ],
      "metadata": {
        "id": "nMX-9ZYbtofo"
      },
      "execution_count": 19,
      "outputs": []
    },
    {
      "cell_type": "markdown",
      "source": [
        "The model outputs a tensor of shape (`batch_size`, `number of samples`, `prediction length`). We'll stack the forecasts for all batches vertically, to getting all forecasts for the time-series in the test dataset.\n",
        "\n",
        "In this case, we get `100` possible values for the next `24` months for every time series:"
      ],
      "metadata": {
        "id": "DKolZRtSuGS4"
      }
    },
    {
      "cell_type": "code",
      "source": [
        "forecasts = np.vstack(forecasts)\n",
        "print(forecasts[0].shape)"
      ],
      "metadata": {
        "colab": {
          "base_uri": "https://localhost:8080/"
        },
        "id": "x3uFPFeTuJTR",
        "outputId": "25db6e6c-7035-48a5-c560-d9df4e226bc7"
      },
      "execution_count": 20,
      "outputs": [
        {
          "output_type": "stream",
          "name": "stdout",
          "text": [
            "(100, 24)\n"
          ]
        }
      ]
    },
    {
      "cell_type": "markdown",
      "source": [
        "We can evaluate the resulting forecast with respect to the ground truth out of sample values present in the test set. For that, we'll use the 🤗 [Evaluate](https://huggingface.co/docs/evaluate/index) library, which includes the MASE metric (i.e., the mean absolute error of the forecast values, divided by the mean absolute error of the in-sample one-step naive forecast)."
      ],
      "metadata": {
        "id": "5Xdj2RhKu2Y2"
      }
    },
    {
      "cell_type": "code",
      "source": [
        "from evaluate import load\n",
        "from gluonts.time_feature import get_seasonality\n",
        "\n",
        "mase_metric = load(\"evaluate-metric/mase\")\n",
        "\n",
        "\n",
        "forecast_median = np.median(forecasts, 1)\n",
        "\n",
        "mase_metrics = []\n",
        "\n",
        "for item_id, ts in enumerate(test_dataset):\n",
        "    training_data = ts[\"target\"][:-prediction_length]\n",
        "    ground_truth = ts[\"target\"][-prediction_length:]\n",
        "    mase = mase_metric.compute(\n",
        "        predictions=forecast_median[item_id],\n",
        "        references=np.array(ground_truth),\n",
        "        training=np.array(training_data),\n",
        "        periodicity=get_seasonality(freq),\n",
        "    )\n",
        "    mase_metrics.append(mase[\"mase\"])\n",
        "\n",
        "print(f\"MASE: {round(np.mean(mase_metrics), 3)}\")"
      ],
      "metadata": {
        "colab": {
          "base_uri": "https://localhost:8080/"
        },
        "id": "7Hc_g3FzuzeO",
        "outputId": "1f581e80-ff89-439e-83e9-78c51aeb4b56"
      },
      "execution_count": 21,
      "outputs": [
        {
          "output_type": "stream",
          "name": "stdout",
          "text": [
            "MASE: 1.268\n"
          ]
        }
      ]
    },
    {
      "cell_type": "markdown",
      "source": [
        "We can also plot the distribution of MASE scores in the dataset and observe that a handful of time series contribute a lot to the final test metric:"
      ],
      "metadata": {
        "id": "6vCIF9e7xWiT"
      }
    },
    {
      "cell_type": "code",
      "source": [
        "plt.hist(mase_metrics, bins = 20)\n",
        "plt.xlabel(\"MASE\")\n",
        "plt.grid(\"on\")\n",
        "plt.show()"
      ],
      "metadata": {
        "colab": {
          "base_uri": "https://localhost:8080/",
          "height": 449
        },
        "id": "1htYShyzxNe2",
        "outputId": "f5fa60c8-bac9-445f-ac82-fad8cf657307"
      },
      "execution_count": 22,
      "outputs": [
        {
          "output_type": "display_data",
          "data": {
            "text/plain": [
              "<Figure size 640x480 with 1 Axes>"
            ],
            "image/png": "[encoded data removed]"
          },
          "metadata": {}
        }
      ]
    },
    {
      "cell_type": "markdown",
      "source": [
        "#### TODO: Check how MASE is calculated, give an interpretation about the results obtained for our model."
      ],
      "metadata": {
        "id": "SIAeQBwCNdYh"
      }
    },
    {
      "cell_type": "code",
      "source": [
        "import matplotlib.dates as mdates\n",
        "\n",
        "# Helper function to plot out forecasts for a time series\n",
        "\n",
        "def plot_forecast(ts_index):\n",
        "    fig, ax = plt.subplots()\n",
        "\n",
        "    index = pd.period_range(\n",
        "        start=test_dataset[ts_index][FieldName.START],\n",
        "        periods=len(test_dataset[ts_index][FieldName.TARGET]),\n",
        "        freq=freq,\n",
        "    ).to_timestamp()\n",
        "\n",
        "    # Major ticks every half year, minor ticks every month,\n",
        "    ax.xaxis.set_major_locator(mdates.MonthLocator(bymonth=(1, 7)))\n",
        "    ax.xaxis.set_minor_locator(mdates.MonthLocator())\n",
        "\n",
        "    ax.plot(\n",
        "        index[-3 * prediction_length :],\n",
        "        test_dataset[ts_index][\"target\"][-3 * prediction_length :],\n",
        "        label=\"actual\",\n",
        "    )\n",
        "\n",
        "    plt.plot(\n",
        "        index[-prediction_length:],\n",
        "        np.median(forecasts[ts_index], axis=0),\n",
        "        label=\"median\",\n",
        "    )\n",
        "\n",
        "    plt.fill_between(\n",
        "        index[-prediction_length:],\n",
        "        forecasts[ts_index].mean(0) - forecasts[ts_index].std(axis=0),\n",
        "        forecasts[ts_index].mean(0) + forecasts[ts_index].std(axis=0),\n",
        "        alpha=0.3,\n",
        "        interpolate=True,\n",
        "        label=\"+/- 1-std\",\n",
        "    )\n",
        "    plt.xticks(rotation=60)\n",
        "    plt.legend()\n",
        "    plt.show()\n",
        "\n",
        "    return\n",
        "\n",
        "# for example\n",
        "plot_forecast(300)"
      ],
      "metadata": {
        "colab": {
          "base_uri": "https://localhost:8080/",
          "height": 453
        },
        "id": "AAJPuZw7xqkQ",
        "outputId": "079611df-aee2-4b31-c46e-ab6c22cc1cdc"
      },
      "execution_count": 23,
      "outputs": [
        {
          "output_type": "display_data",
          "data": {
            "text/plain": [
              "<Figure size 640x480 with 1 Axes>"
            ],
            "image/png": "[encoded data removed]"
          },
          "metadata": {}
        }
      ]
    },
    {
      "cell_type": "markdown",
      "source": [
        "#### TODO check the best and worst predictions in terms of MASE by our model and plot them out using the helper functon plot"
      ],
      "metadata": {
        "id": "mEh6qXqINiNK"
      }
    },
    {
      "cell_type": "code",
      "source": [
        "# TODO"
      ],
      "metadata": {
        "id": "XSlcQ244OPJ3"
      },
      "execution_count": 24,
      "outputs": []
    },
    {
      "cell_type": "code",
      "source": [
        "#@title Solution\n",
        "\n",
        "worst_index = np.argmax(np.array(mase_metrics))\n",
        "\n",
        "# want to check more bad predictions? uncomment the next and use these indices in the plot function\n",
        "# bad_indices = np.argpartition(mase_metrics, -4)[-4:]\n",
        "\n",
        "best_index = np.argmin(np.array(mase_metrics))\n",
        "\n",
        "plot_forecast(int(worst_index))\n",
        "plot_forecast(int(best_index))"
      ],
      "metadata": {
        "cellView": "form",
        "id": "yov370GDNhZi"
      },
      "execution_count": null,
      "outputs": []
    },
    {
      "cell_type": "markdown",
      "source": [
        "## Conclusions\n",
        "\n",
        "How do we compare against other models? The [Monash Time Series Repository](https://forecastingdata.org/#results) has a comparison table of test set MASE metrics which we can compare to:\n",
        "\n",
        "|Dataset | \tSES| \tTheta | \tTBATS| \tETS\t| (DHR-)ARIMA| \tPR|\tCatBoost |\tFFNN\t| DeepAR | \tN-BEATS | \tWaveNet| \t**Transformer** (Our) |\n",
        "|:------------------:|:-----------------:|:--:|:--:|:--:|:--:|:--:|:--:|:---:|:---:|:--:|:--:|:--:|\n",
        "|Tourism Monthly | \t3.306 |\t1.649 |\t1.751 |\t1.526|\t1.589|\t1.678\t|1.699|\t1.582\t| 1.409\t| 1.574|\t1.482\t|  **1.268**|\n",
        "\n",
        "Note that, with our model, we're beating all other models reported, and we didn't do any hyperparameter tuning, nor validation. We just trained the Transformer for 40 epochs. We can certainly improve just considering that.\n",
        "\n",
        "\n",
        "Of course, we need to be careful with just claiming state-of-the-art results on time series with neural networks, as it seems [\"XGBoost is typically all you need\"](https://www.sciencedirect.com/science/article/pii/S0169207021001679).  This particular dataset, however, seems to indicate that transformers are definitely worth exploring."
      ],
      "metadata": {
        "id": "bB4FEvjLyKxE"
      }
    }
  ]
}